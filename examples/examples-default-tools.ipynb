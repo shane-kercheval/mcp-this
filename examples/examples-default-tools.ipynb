{
 "cells": [
  {
   "cell_type": "code",
   "execution_count": 1,
   "id": "2f7b5f8a",
   "metadata": {},
   "outputs": [],
   "source": [
    "import json\n",
    "from mcp import ClientSession, StdioServerParameters\n",
    "from mcp.client.stdio import stdio_client"
   ]
  },
  {
   "cell_type": "code",
   "execution_count": 2,
   "id": "07fcac3d",
   "metadata": {},
   "outputs": [
    {
     "name": "stdout",
     "output_type": "stream",
     "text": [
      "Available tools:\n",
      "-----------------------\n",
      "\n",
      "- `get-directory-tree`\n",
      "- `find-files`\n",
      "- `find-text-patterns`\n",
      "- `extract-file-text`\n",
      "- `extract-code-info`\n",
      "- `web-scraper`\n"
     ]
    }
   ],
   "source": [
    "server_params = StdioServerParameters(\n",
    "    command='python',\n",
    "    args=['-m', 'mcp_this'],\n",
    ")\n",
    "\n",
    "async with stdio_client(server_params) as (read, write):  # noqa: SIM117\n",
    "    async with ClientSession(read, write) as session:\n",
    "        await session.initialize()\n",
    "        tools = await session.list_tools()\n",
    "        print(\"Available tools:\\n-----------------------\\n\")\n",
    "        for tool in tools.tools:\n",
    "            print(f\"- `{tool.name}`\")\n",
    "\n",
    "        dir_tree_result = await session.call_tool(\n",
    "            'get-directory-tree',\n",
    "            {'directory': '..'},\n",
    "        )\n",
    "        find_files_results = await session.call_tool(\n",
    "            'find-files',\n",
    "            {\n",
    "                'directory': '/Users/shanekercheval/repos/mcp-this/src/mcp_this',\n",
    "                'arguments': '-name *.py',\n",
    "            },\n",
    "        )\n",
    "        find_text_patterns_result = await session.call_tool(\n",
    "            'find-text-patterns',\n",
    "            {\n",
    "                'directory': '/Users/shanekercheval/repos/mcp-this/src/mcp_this',\n",
    "                'arguments': '--include=*.py',\n",
    "                'pattern': 'def ',\n",
    "            },\n",
    "        )\n",
    "        extract_file_text_result = await session.call_tool(\n",
    "            'extract-file-text',\n",
    "            {\n",
    "                'file': '/Users/shanekercheval/repos/mcp-this/src/mcp_this/mcp_server.py',\n",
    "                'arguments': '| head -20',\n",
    "            },\n",
    "        )\n",
    "        code_info_result = await session.call_tool(\n",
    "            'extract-code-info',\n",
    "            {\n",
    "                'files': '/Users/shanekercheval/repos/mcp-this/src/mcp_this/*.py',\n",
    "                'types': 'functions,classes',\n",
    "            },\n",
    "        )"
   ]
  },
  {
   "cell_type": "code",
   "execution_count": 3,
   "id": "a8ddb835",
   "metadata": {},
   "outputs": [
    {
     "data": {
      "text/plain": [
       "CallToolResult(meta=None, content=[TextContent(type='text', text='..\\n├── .github\\n│\\xa0\\xa0 └── workflows\\n│\\xa0\\xa0     └── tests.yaml\\n├── .gitignore\\n├── .ruff.toml\\n├── LICENSE\\n├── Makefile\\n├── README.md\\n├── documentation\\n│\\xa0\\xa0 └── images\\n│\\xa0\\xa0     ├── custom-tool-example.png\\n│\\xa0\\xa0     ├── custom-tool.png\\n│\\xa0\\xa0     ├── default-tools.png\\n│\\xa0\\xa0     ├── server-default.png\\n│\\xa0\\xa0     ├── servers-default-custom.png\\n│\\xa0\\xa0     └── tool-allow.png\\n├── examples\\n│\\xa0\\xa0 ├── cli.py\\n│\\xa0\\xa0 ├── custom_tools.yaml\\n│\\xa0\\xa0 ├── examples-default-tools.ipynb\\n│\\xa0\\xa0 ├── examples-editing-tools.ipynb\\n│\\xa0\\xa0 ├── examples-github-tools.ipynb\\n│\\xa0\\xa0 ├── examples-passing-tools.ipynb\\n│\\xa0\\xa0 ├── mcp_config_cli.json\\n│\\xa0\\xa0 ├── temp\\n│\\xa0\\xa0 │\\xa0\\xa0 └── nested\\n│\\xa0\\xa0 │\\xa0\\xa0     └── example\\n│\\xa0\\xa0 │\\xa0\\xa0         └── directory\\n│\\xa0\\xa0 └── tools_example.yaml\\n├── pyproject.toml\\n├── src\\n│\\xa0\\xa0 └── mcp_this\\n│\\xa0\\xa0     ├── __init__.py\\n│\\xa0\\xa0     ├── __main__.py\\n│\\xa0\\xa0     ├── configs\\n│\\xa0\\xa0     │\\xa0\\xa0 ├── default.yaml\\n│\\xa0\\xa0     │\\xa0\\xa0 ├── editing.yaml\\n│\\xa0\\xa0     │\\xa0\\xa0 └── github.yaml\\n│\\xa0\\xa0     ├── mcp_server.py\\n│\\xa0\\xa0     └── tools.py\\n├── temp.txt\\n├── tests\\n│\\xa0\\xa0 ├── fixtures\\n│\\xa0\\xa0 │\\xa0\\xa0 └── test_config.yaml\\n│\\xa0\\xa0 ├── test_builtin_config_default.py\\n│\\xa0\\xa0 ├── test_builtin_config_editing.py\\n│\\xa0\\xa0 ├── test_builtin_config_github.py\\n│\\xa0\\xa0 ├── test_command_execution_edge_cases.py\\n│\\xa0\\xa0 ├── test_config_files.py\\n│\\xa0\\xa0 ├── test_config_loading.py\\n│\\xa0\\xa0 ├── test_main.py\\n│\\xa0\\xa0 ├── test_mcp_server.py\\n│\\xa0\\xa0 └── test_tool_registration.py\\n└── uv.lock\\n\\n15 directories, 40 files\\n', annotations=None)], isError=False)"
      ]
     },
     "execution_count": 3,
     "metadata": {},
     "output_type": "execute_result"
    }
   ],
   "source": [
    "dir_tree_result"
   ]
  },
  {
   "cell_type": "markdown",
   "id": "e59ca779",
   "metadata": {},
   "source": [
    "---"
   ]
  },
  {
   "cell_type": "code",
   "execution_count": 4,
   "id": "7e45e3e1",
   "metadata": {},
   "outputs": [
    {
     "name": "stdout",
     "output_type": "stream",
     "text": [
      "..\n",
      "├── .github\n",
      "│   └── workflows\n",
      "│       └── tests.yaml\n",
      "├── .gitignore\n",
      "├── .ruff.toml\n",
      "├── LICENSE\n",
      "├── Makefile\n",
      "├── README.md\n",
      "├── documentation\n",
      "│   └── images\n",
      "│       ├── custom-tool-example.png\n",
      "│       ├── custom-tool.png\n",
      "│       ├── default-tools.png\n",
      "│       ├── server-default.png\n",
      "│       ├── servers-default-custom.png\n",
      "│       └── tool-allow.png\n",
      "├── examples\n",
      "│   ├── cli.py\n",
      "│   ├── custom_tools.yaml\n",
      "│   ├── examples-default-tools.ipynb\n",
      "│   ├── examples-editing-tools.ipynb\n",
      "│   ├── examples-github-tools.ipynb\n",
      "│   ├── examples-passing-tools.ipynb\n",
      "│   ├── mcp_config_cli.json\n",
      "│   ├── temp\n",
      "│   │   └── nested\n",
      "│   │       └── example\n",
      "│   │           └── directory\n",
      "│   └── tools_example.yaml\n",
      "├── pyproject.toml\n",
      "├── src\n",
      "│   └── mcp_this\n",
      "│       ├── __init__.py\n",
      "│       ├── __main__.py\n",
      "│       ├── configs\n",
      "│       │   ├── default.yaml\n",
      "│       │   ├── editing.yaml\n",
      "│       │   └── github.yaml\n",
      "│       ├── mcp_server.py\n",
      "│       └── tools.py\n",
      "├── temp.txt\n",
      "├── tests\n",
      "│   ├── fixtures\n",
      "│   │   └── test_config.yaml\n",
      "│   ├── test_builtin_config_default.py\n",
      "│   ├── test_builtin_config_editing.py\n",
      "│   ├── test_builtin_config_github.py\n",
      "│   ├── test_command_execution_edge_cases.py\n",
      "│   ├── test_config_files.py\n",
      "│   ├── test_config_loading.py\n",
      "│   ├── test_main.py\n",
      "│   ├── test_mcp_server.py\n",
      "│   └── test_tool_registration.py\n",
      "└── uv.lock\n",
      "\n",
      "15 directories, 40 files\n",
      "\n"
     ]
    }
   ],
   "source": [
    "print(dir_tree_result.content[0].text)"
   ]
  },
  {
   "cell_type": "markdown",
   "id": "78d3ae83",
   "metadata": {},
   "source": [
    "---"
   ]
  },
  {
   "cell_type": "code",
   "execution_count": 5,
   "id": "98161b98",
   "metadata": {},
   "outputs": [
    {
     "name": "stdout",
     "output_type": "stream",
     "text": [
      "./__init__.py\n",
      "./__main__.py\n",
      "./mcp_server.py\n",
      "./tools.py\n",
      "\n"
     ]
    }
   ],
   "source": [
    "print(find_files_results.content[0].text)"
   ]
  },
  {
   "cell_type": "markdown",
   "id": "e96a0afc",
   "metadata": {},
   "source": [
    "---"
   ]
  },
  {
   "cell_type": "code",
   "execution_count": 6,
   "id": "f0d9777c",
   "metadata": {},
   "outputs": [
    {
     "name": "stdout",
     "output_type": "stream",
     "text": [
      "./tools.py:23:    def get_full_description(self) -> str:\n",
      "./tools.py:94:def build_command(command_template: str, parameters: dict[str, str]) -> str:\n",
      "./tools.py:141:async def execute_command(cmd: str) -> str:\n",
      "./tools.py:192:def parse_tools(config: dict) -> list[ToolInfo]:\n",
      "./tools.py:217:def create_tool_info(tool_name: str, tool_config: dict) -> ToolInfo:\n",
      "./tools.py:264:        f\"async def {function_name}({param_string}) -> str:\",\n",
      "./__main__.py:17:def find_default_config() -> str | None:\n",
      "./__main__.py:36:def get_preset_config(preset_name: str) -> str | None:\n",
      "./__main__.py:52:def main() -> None:\n",
      "./mcp_server.py:19:def get_default_tools_path() -> Path | None:\n",
      "./mcp_server.py:30:def load_config(tools_path: str | None = None, tools: str | None = None) -> dict:\n",
      "./mcp_server.py:89:def validate_config(config: dict) -> None:\n",
      "./mcp_server.py:114:def validate_tool_config(tool_id: str, tool_config: dict) -> None:\n",
      "./mcp_server.py:138:def register_parsed_tools(tools_info: list[ToolInfo]) -> None:\n",
      "./mcp_server.py:167:def register_tools(config: dict) -> None:\n",
      "./mcp_server.py:178:def init_server(tools_path: str | None = None, tools: str | None = None) -> None:\n",
      "./mcp_server.py:199:def run_server() -> None:\n",
      "\n"
     ]
    }
   ],
   "source": [
    "print(find_text_patterns_result.content[0].text)"
   ]
  },
  {
   "cell_type": "markdown",
   "id": "0d5b7a5a",
   "metadata": {},
   "source": [
    "---"
   ]
  },
  {
   "cell_type": "code",
   "execution_count": 7,
   "id": "fcbe2ce1",
   "metadata": {},
   "outputs": [
    {
     "name": "stdout",
     "output_type": "stream",
     "text": [
      "     1\t#!/usr/bin/env python3\n",
      "     2\t\"\"\"\n",
      "     3\tMCP Server that dynamically creates command-line tools based on a YAML configuration file.\n",
      "     4\t\n",
      "     5\tEach tool maps to a command-line command that can be executed by the server.\n",
      "     6\t\"\"\"\n",
      "     7\timport os\n",
      "     8\timport yaml\n",
      "     9\timport json\n",
      "    10\tfrom pathlib import Path\n",
      "    11\tfrom mcp.server.fastmcp import FastMCP\n",
      "    12\timport sys\n",
      "    13\tfrom mcp_this.tools import ToolInfo, build_command, execute_command, parse_tools\n",
      "    14\t\n",
      "    15\t\n",
      "    16\tmcp = FastMCP(\"Dynamic CLI Tools\")\n",
      "    17\t\n",
      "    18\t\n",
      "    19\tdef get_default_tools_path() -> Path | None:\n",
      "    20\t    \"\"\"Get the path to the default configuration file.\"\"\"\n",
      "\n"
     ]
    }
   ],
   "source": [
    "print(extract_file_text_result.content[0].text)"
   ]
  },
  {
   "cell_type": "markdown",
   "id": "c6e53ce0",
   "metadata": {},
   "source": [
    "---"
   ]
  },
  {
   "cell_type": "code",
   "execution_count": 8,
   "id": "6dc81c38",
   "metadata": {},
   "outputs": [
    {
     "name": "stdout",
     "output_type": "stream",
     "text": [
      "=== File: /Users/shanekercheval/repos/mcp-this/src/mcp_this/__init__.py ===\n",
      "--- functions ---\n",
      "No function definitions found\n",
      "--- classes ---\n",
      "No classes found\n",
      "\n",
      "=== File: /Users/shanekercheval/repos/mcp-this/src/mcp_this/__main__.py ===\n",
      "--- functions ---\n",
      "17:def find_default_config() -> str | None:\n",
      "36:def get_preset_config(preset_name: str) -> str | None:\n",
      "52:def main() -> None:\n",
      "--- classes ---\n",
      "No classes found\n",
      "\n",
      "=== File: /Users/shanekercheval/repos/mcp-this/src/mcp_this/mcp_server.py ===\n",
      "--- functions ---\n",
      "19:def get_default_tools_path() -> Path | None:\n",
      "30:def load_config(tools_path: str | None = None, tools: str | None = None) -> dict:\n",
      "89:def validate_config(config: dict) -> None:\n",
      "114:def validate_tool_config(tool_id: str, tool_config: dict) -> None:\n",
      "138:def register_parsed_tools(tools_info: list[ToolInfo]) -> None:\n",
      "167:def register_tools(config: dict) -> None:\n",
      "178:def init_server(tools_path: str | None = None, tools: str | None = None) -> None:\n",
      "199:def run_server() -> None:\n",
      "--- classes ---\n",
      "No classes found\n",
      "\n",
      "=== File: /Users/shanekercheval/repos/mcp-this/src/mcp_this/tools.py ===\n",
      "--- functions ---\n",
      "23:    def get_full_description(self) -> str:\n",
      "94:def build_command(command_template: str, parameters: dict[str, str]) -> str:\n",
      "192:def parse_tools(config: dict) -> list[ToolInfo]:\n",
      "217:def create_tool_info(tool_name: str, tool_config: dict) -> ToolInfo:\n",
      "--- classes ---\n",
      "10:class ToolInfo:\n",
      "\n",
      "\n"
     ]
    }
   ],
   "source": [
    "print(code_info_result.content[0].text)"
   ]
  }
 ],
 "metadata": {
  "kernelspec": {
   "display_name": ".venv",
   "language": "python",
   "name": "python3"
  },
  "language_info": {
   "codemirror_mode": {
    "name": "ipython",
    "version": 3
   },
   "file_extension": ".py",
   "mimetype": "text/x-python",
   "name": "python",
   "nbconvert_exporter": "python",
   "pygments_lexer": "ipython3",
   "version": "3.13.1"
  }
 },
 "nbformat": 4,
 "nbformat_minor": 5
}
