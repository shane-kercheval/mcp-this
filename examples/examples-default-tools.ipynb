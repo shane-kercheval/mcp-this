{
 "cells": [
  {
   "cell_type": "code",
   "execution_count": 1,
   "id": "2f7b5f8a",
   "metadata": {},
   "outputs": [],
   "source": [
    "import json\n",
    "from mcp import ClientSession, StdioServerParameters\n",
    "from mcp.client.stdio import stdio_client"
   ]
  },
  {
   "cell_type": "code",
   "execution_count": 2,
   "id": "07fcac3d",
   "metadata": {},
   "outputs": [
    {
     "name": "stdout",
     "output_type": "stream",
     "text": [
      "Available tools:\n",
      "-----------------------\n",
      "\n",
      "- `get-directory-tree`\n",
      "- `find-files`\n",
      "- `find-text-patterns`\n",
      "- `extract-file-text`\n",
      "- `extract-code-info`\n",
      "- `web-scraper`\n"
     ]
    }
   ],
   "source": [
    "server_params = StdioServerParameters(\n",
    "    command='python',\n",
    "    args=['-m', 'mcp_this'],\n",
    ")\n",
    "\n",
    "async with stdio_client(server_params) as (read, write):  # noqa: SIM117\n",
    "    async with ClientSession(read, write) as session:\n",
    "        await session.initialize()\n",
    "        tools = await session.list_tools()\n",
    "        print(\"Available tools:\\n-----------------------\\n\")\n",
    "        for tool in tools.tools:\n",
    "            print(f\"- `{tool.name}`\")\n",
    "\n",
    "        dir_tree_result = await session.call_tool(\n",
    "            'get-directory-tree',\n",
    "            {'directory': '..'},\n",
    "        )\n",
    "        code_info_result = await session.call_tool(\n",
    "            'extract-code-info',\n",
    "            {\n",
    "                'files': '/Users/shanekercheval/repos/mcp-this/src/mcp_this/*.py',\n",
    "                'types': 'functions,classes',\n",
    "            },\n",
    "        )"
   ]
  },
  {
   "cell_type": "code",
   "execution_count": 3,
   "id": "a8ddb835",
   "metadata": {},
   "outputs": [
    {
     "data": {
      "text/plain": [
       "CallToolResult(meta=None, content=[TextContent(type='text', text='..\\n├── .github\\n│\\xa0\\xa0 └── workflows\\n│\\xa0\\xa0     └── tests.yaml\\n├── .gitignore\\n├── .ruff.toml\\n├── LICENSE\\n├── Makefile\\n├── README.md\\n├── documentation\\n│\\xa0\\xa0 └── images\\n│\\xa0\\xa0     ├── custom-tool-example.png\\n│\\xa0\\xa0     ├── custom-tool.png\\n│\\xa0\\xa0     ├── default-tools.png\\n│\\xa0\\xa0     ├── server-default.png\\n│\\xa0\\xa0     ├── servers-default-custom.png\\n│\\xa0\\xa0     └── tool-allow.png\\n├── examples\\n│\\xa0\\xa0 ├── cli.py\\n│\\xa0\\xa0 ├── custom_tools.yaml\\n│\\xa0\\xa0 ├── examples-default-tools.ipynb\\n│\\xa0\\xa0 ├── examples-editing-tools.ipynb\\n│\\xa0\\xa0 ├── examples-github-tools.ipynb\\n│\\xa0\\xa0 ├── examples-passing-tools.ipynb\\n│\\xa0\\xa0 ├── mcp_config_cli.json\\n│\\xa0\\xa0 ├── temp\\n│\\xa0\\xa0 │\\xa0\\xa0 └── nested\\n│\\xa0\\xa0 │\\xa0\\xa0     └── example\\n│\\xa0\\xa0 │\\xa0\\xa0         └── directory\\n│\\xa0\\xa0 └── tools_example.yaml\\n├── pyproject.toml\\n├── src\\n│\\xa0\\xa0 └── mcp_this\\n│\\xa0\\xa0     ├── __init__.py\\n│\\xa0\\xa0     ├── __main__.py\\n│\\xa0\\xa0     ├── configs\\n│\\xa0\\xa0     │\\xa0\\xa0 ├── default.yaml\\n│\\xa0\\xa0     │\\xa0\\xa0 ├── editing.yaml\\n│\\xa0\\xa0     │\\xa0\\xa0 └── github.yaml\\n│\\xa0\\xa0     ├── mcp_server.py\\n│\\xa0\\xa0     └── tools.py\\n├── temp.txt\\n├── tests\\n│\\xa0\\xa0 ├── fixtures\\n│\\xa0\\xa0 │\\xa0\\xa0 └── test_config.yaml\\n│\\xa0\\xa0 ├── test_builtin_config_default.py\\n│\\xa0\\xa0 ├── test_builtin_config_editing.py\\n│\\xa0\\xa0 ├── test_builtin_config_github.py\\n│\\xa0\\xa0 ├── test_command_execution_edge_cases.py\\n│\\xa0\\xa0 ├── test_config_files.py\\n│\\xa0\\xa0 ├── test_config_loading.py\\n│\\xa0\\xa0 ├── test_main.py\\n│\\xa0\\xa0 ├── test_mcp_server.py\\n│\\xa0\\xa0 └── test_tool_registration.py\\n└── uv.lock\\n\\n15 directories, 40 files\\n', annotations=None)], isError=False)"
      ]
     },
     "execution_count": 3,
     "metadata": {},
     "output_type": "execute_result"
    }
   ],
   "source": [
    "dir_tree_result"
   ]
  },
  {
   "cell_type": "code",
   "execution_count": 4,
   "id": "7e45e3e1",
   "metadata": {},
   "outputs": [
    {
     "name": "stdout",
     "output_type": "stream",
     "text": [
      "..\n",
      "├── .github\n",
      "│   └── workflows\n",
      "│       └── tests.yaml\n",
      "├── .gitignore\n",
      "├── .ruff.toml\n",
      "├── LICENSE\n",
      "├── Makefile\n",
      "├── README.md\n",
      "├── documentation\n",
      "│   └── images\n",
      "│       ├── custom-tool-example.png\n",
      "│       ├── custom-tool.png\n",
      "│       ├── default-tools.png\n",
      "│       ├── server-default.png\n",
      "│       ├── servers-default-custom.png\n",
      "│       └── tool-allow.png\n",
      "├── examples\n",
      "│   ├── cli.py\n",
      "│   ├── custom_tools.yaml\n",
      "│   ├── examples-default-tools.ipynb\n",
      "│   ├── examples-editing-tools.ipynb\n",
      "│   ├── examples-github-tools.ipynb\n",
      "│   ├── examples-passing-tools.ipynb\n",
      "│   ├── mcp_config_cli.json\n",
      "│   ├── temp\n",
      "│   │   └── nested\n",
      "│   │       └── example\n",
      "│   │           └── directory\n",
      "│   └── tools_example.yaml\n",
      "├── pyproject.toml\n",
      "├── src\n",
      "│   └── mcp_this\n",
      "│       ├── __init__.py\n",
      "│       ├── __main__.py\n",
      "│       ├── configs\n",
      "│       │   ├── default.yaml\n",
      "│       │   ├── editing.yaml\n",
      "│       │   └── github.yaml\n",
      "│       ├── mcp_server.py\n",
      "│       └── tools.py\n",
      "├── temp.txt\n",
      "├── tests\n",
      "│   ├── fixtures\n",
      "│   │   └── test_config.yaml\n",
      "│   ├── test_builtin_config_default.py\n",
      "│   ├── test_builtin_config_editing.py\n",
      "│   ├── test_builtin_config_github.py\n",
      "│   ├── test_command_execution_edge_cases.py\n",
      "│   ├── test_config_files.py\n",
      "│   ├── test_config_loading.py\n",
      "│   ├── test_main.py\n",
      "│   ├── test_mcp_server.py\n",
      "│   └── test_tool_registration.py\n",
      "└── uv.lock\n",
      "\n",
      "15 directories, 40 files\n",
      "\n"
     ]
    }
   ],
   "source": [
    "print(dir_tree_result.content[0].text)"
   ]
  },
  {
   "cell_type": "code",
   "execution_count": 5,
   "id": "6dc81c38",
   "metadata": {},
   "outputs": [
    {
     "name": "stdout",
     "output_type": "stream",
     "text": [
      "\n"
     ]
    }
   ],
   "source": [
    "print(code_info_result.content[0].text)"
   ]
  },
  {
   "cell_type": "code",
   "execution_count": 6,
   "id": "89d1e55a",
   "metadata": {},
   "outputs": [
    {
     "data": {
      "text/plain": [
       "CallToolResult(meta=None, content=[TextContent(type='text', text='', annotations=None)], isError=False)"
      ]
     },
     "execution_count": 6,
     "metadata": {},
     "output_type": "execute_result"
    }
   ],
   "source": [
    "code_info_result"
   ]
  }
 ],
 "metadata": {
  "kernelspec": {
   "display_name": ".venv",
   "language": "python",
   "name": "python3"
  },
  "language_info": {
   "codemirror_mode": {
    "name": "ipython",
    "version": 3
   },
   "file_extension": ".py",
   "mimetype": "text/x-python",
   "name": "python",
   "nbconvert_exporter": "python",
   "pygments_lexer": "ipython3",
   "version": "3.13.1"
  }
 },
 "nbformat": 4,
 "nbformat_minor": 5
}
