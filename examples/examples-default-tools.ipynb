{
 "cells": [
  {
   "cell_type": "code",
   "execution_count": 1,
   "id": "2f7b5f8a",
   "metadata": {},
   "outputs": [],
   "source": [
    "import json\n",
    "from mcp import ClientSession, StdioServerParameters\n",
    "from mcp.client.stdio import stdio_client"
   ]
  },
  {
   "cell_type": "code",
   "execution_count": 2,
   "id": "07fcac3d",
   "metadata": {},
   "outputs": [
    {
     "name": "stdout",
     "output_type": "stream",
     "text": [
      "Available tools:\n",
      "-----------------------\n",
      "\n",
      "- `get-directory-tree`\n",
      "- `find-files`\n",
      "- `find-text-patterns`\n",
      "- `extract-file-text`\n",
      "- `extract-code-info`\n",
      "- `edit-file`\n",
      "- `create-file`\n",
      "- `create-directory`\n",
      "- `web-scraper`\n"
     ]
    }
   ],
   "source": [
    "server_params = StdioServerParameters(\n",
    "    command='python',\n",
    "    args=['-m', 'mcp_this'],\n",
    ")\n",
    "\n",
    "async with stdio_client(server_params) as (read, write):  # noqa: SIM117\n",
    "    async with ClientSession(read, write) as session:\n",
    "        await session.initialize()\n",
    "        tools = await session.list_tools()\n",
    "        print(\"Available tools:\\n-----------------------\\n\")\n",
    "        for tool in tools.tools:\n",
    "            print(f\"- `{tool.name}`\")\n",
    "\n",
    "        dir_tree_result = await session.call_tool(\n",
    "            'get-directory-tree',\n",
    "            {'directory': '..'},\n",
    "        )\n",
    "        code_info_result = await session.call_tool(\n",
    "            'extract-code-info',\n",
    "            {\n",
    "                'files': '/Users/shanekercheval/repos/mcp-this/src/mcp_this/*.py',\n",
    "                'types': 'functions,classes',\n",
    "            },\n",
    "        )"
   ]
  },
  {
   "cell_type": "code",
   "execution_count": 3,
   "id": "a8ddb835",
   "metadata": {},
   "outputs": [
    {
     "data": {
      "text/plain": [
       "CallToolResult(meta=None, content=[TextContent(type='text', text='..\\n├── .github\\n│\\xa0\\xa0 └── workflows\\n│\\xa0\\xa0     └── tests.yaml\\n├── .gitignore\\n├── .ruff.toml\\n├── LICENSE\\n├── Makefile\\n├── README.md\\n├── examples\\n│\\xa0\\xa0 ├── claude_desktop_config_default.json\\n│\\xa0\\xa0 ├── cli.py\\n│\\xa0\\xa0 ├── examples-default-tools.ipynb\\n│\\xa0\\xa0 ├── examples-passing-tools.ipynb\\n│\\xa0\\xa0 ├── mcp_config_cli.json\\n│\\xa0\\xa0 ├── toolset_example__curl.yaml\\n│\\xa0\\xa0 └── top_level_tools_example.yaml\\n├── pyproject.toml\\n├── src\\n│\\xa0\\xa0 └── mcp_this\\n│\\xa0\\xa0     ├── __init__.py\\n│\\xa0\\xa0     ├── __main__.py\\n│\\xa0\\xa0     ├── configs\\n│\\xa0\\xa0     │\\xa0\\xa0 └── default.yaml\\n│\\xa0\\xa0     ├── mcp_server.py\\n│\\xa0\\xa0     └── tools.py\\n├── temp\\n├── tests\\n│\\xa0\\xa0 ├── fixtures\\n│\\xa0\\xa0 │\\xa0\\xa0 └── test_config.yaml\\n│\\xa0\\xa0 ├── test_command_execution_edge_cases.py\\n│\\xa0\\xa0 ├── test_config_files.py\\n│\\xa0\\xa0 ├── test_config_loading.py\\n│\\xa0\\xa0 ├── test_default_config.py\\n│\\xa0\\xa0 ├── test_main.py\\n│\\xa0\\xa0 ├── test_mcp_server.py\\n│\\xa0\\xa0 └── test_tool_registration.py\\n└── uv.lock\\n\\n10 directories, 28 files\\n', annotations=None)], isError=False)"
      ]
     },
     "execution_count": 3,
     "metadata": {},
     "output_type": "execute_result"
    }
   ],
   "source": [
    "dir_tree_result"
   ]
  },
  {
   "cell_type": "code",
   "execution_count": 4,
   "id": "7e45e3e1",
   "metadata": {},
   "outputs": [
    {
     "name": "stdout",
     "output_type": "stream",
     "text": [
      "..\n",
      "├── .github\n",
      "│   └── workflows\n",
      "│       └── tests.yaml\n",
      "├── .gitignore\n",
      "├── .ruff.toml\n",
      "├── LICENSE\n",
      "├── Makefile\n",
      "├── README.md\n",
      "├── examples\n",
      "│   ├── claude_desktop_config_default.json\n",
      "│   ├── cli.py\n",
      "│   ├── examples-default-tools.ipynb\n",
      "│   ├── examples-passing-tools.ipynb\n",
      "│   ├── mcp_config_cli.json\n",
      "│   ├── toolset_example__curl.yaml\n",
      "│   └── top_level_tools_example.yaml\n",
      "├── pyproject.toml\n",
      "├── src\n",
      "│   └── mcp_this\n",
      "│       ├── __init__.py\n",
      "│       ├── __main__.py\n",
      "│       ├── configs\n",
      "│       │   └── default.yaml\n",
      "│       ├── mcp_server.py\n",
      "│       └── tools.py\n",
      "├── temp\n",
      "├── tests\n",
      "│   ├── fixtures\n",
      "│   │   └── test_config.yaml\n",
      "│   ├── test_command_execution_edge_cases.py\n",
      "│   ├── test_config_files.py\n",
      "│   ├── test_config_loading.py\n",
      "│   ├── test_default_config.py\n",
      "│   ├── test_main.py\n",
      "│   ├── test_mcp_server.py\n",
      "│   └── test_tool_registration.py\n",
      "└── uv.lock\n",
      "\n",
      "10 directories, 28 files\n",
      "\n"
     ]
    }
   ],
   "source": [
    "print(dir_tree_result.content[0].text)"
   ]
  },
  {
   "cell_type": "code",
   "execution_count": 5,
   "id": "6dc81c38",
   "metadata": {},
   "outputs": [
    {
     "name": "stdout",
     "output_type": "stream",
     "text": [
      "=== File: /Users/shanekercheval/repos/mcp-this/src/mcp_this/__init__.py ===\n",
      "--- functions ---\n",
      "No function definitions found\n",
      "--- classes ---\n",
      "No classes found\n",
      "\n",
      "=== File: /Users/shanekercheval/repos/mcp-this/src/mcp_this/__main__.py ===\n",
      "--- functions ---\n",
      "17:def find_default_config() -> str | None:\n",
      "36:def main() -> None:\n",
      "--- classes ---\n",
      "No classes found\n",
      "\n",
      "=== File: /Users/shanekercheval/repos/mcp-this/src/mcp_this/mcp_server.py ===\n",
      "--- functions ---\n",
      "19:def get_default_tools_path() -> Path | None:\n",
      "30:def load_config(tools_path: str | None = None, tools: str | None = None) -> dict:\n",
      "89:def validate_config(config: dict) -> None:\n",
      "133:def validate_tool_config(tool_id: str, tool_config: dict) -> None:\n",
      "157:def register_parsed_tools(tools_info: list[ToolInfo]) -> None:\n",
      "186:def register_tools(config: dict) -> None:\n",
      "197:def init_server(tools_path: str | None = None, tools: str | None = None) -> None:\n",
      "218:def run_server() -> None:\n",
      "--- classes ---\n",
      "No classes found\n",
      "\n",
      "=== File: /Users/shanekercheval/repos/mcp-this/src/mcp_this/tools.py ===\n",
      "--- functions ---\n",
      "24:    def get_full_description(self) -> str:\n",
      "96:def build_command(command_template: str, parameters: dict[str, str]) -> str:\n",
      "188:def parse_tools(config: dict) -> list[ToolInfo]:\n",
      "225:def create_tool_info(toolset_name: str, tool_name: str, tool_config: dict) -> ToolInfo:\n",
      "--- classes ---\n",
      "10:class ToolInfo:\n",
      "\n",
      "\n"
     ]
    }
   ],
   "source": [
    "print(code_info_result.content[0].text)"
   ]
  }
 ],
 "metadata": {
  "kernelspec": {
   "display_name": ".venv",
   "language": "python",
   "name": "python3"
  },
  "language_info": {
   "codemirror_mode": {
    "name": "ipython",
    "version": 3
   },
   "file_extension": ".py",
   "mimetype": "text/x-python",
   "name": "python",
   "nbconvert_exporter": "python",
   "pygments_lexer": "ipython3",
   "version": "3.13.1"
  }
 },
 "nbformat": 4,
 "nbformat_minor": 5
}
