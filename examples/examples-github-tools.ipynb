{
 "cells": [
  {
   "cell_type": "markdown",
   "metadata": {},
   "source": [
    "# GitHub Tools Examples\n",
    "\n",
    "This notebook demonstrates the GitHub integration tools available in mcp-this.\n",
    "\n",
    "**Prerequisites:**\n",
    "- GitHub CLI (`gh`) must be installed: `brew install gh` (macOS) or see https://cli.github.com/\n",
    "- GitHub CLI must be authenticated: `gh auth login`\n",
    "\n",
    "The GitHub preset provides tools for analyzing GitHub Pull Requests and repository operations."
   ]
  },
  {
   "cell_type": "code",
   "execution_count": 1,
   "metadata": {},
   "outputs": [],
   "source": [
    "from mcp import ClientSession, StdioServerParameters\n",
    "from mcp.client.stdio import stdio_client"
   ]
  },
  {
   "cell_type": "markdown",
   "metadata": {},
   "source": [
    "## Initialize GitHub Tools Server\n",
    "\n",
    "First, let's connect to the MCP server with the GitHub preset and see what tools are available."
   ]
  },
  {
   "cell_type": "code",
   "execution_count": 2,
   "metadata": {},
   "outputs": [
    {
     "name": "stdout",
     "output_type": "stream",
     "text": [
      "Available GitHub tools:\n",
      "-----------------------\n",
      "\n",
      "TOOL NAME: `get-github-pull-request-info`\n",
      "TOOL DESCRIPTION:\n",
      "\n",
      "Get comprehensive information about a GitHub Pull Request including overview, files changed, and cumulative diff\n",
      "\n",
      "This tool fetches PR details, shows which files were modified with addition/deletion counts, \n",
      "and displays the complete diff showing the final changes the PR makes to the codebase...\n",
      "---\n",
      "\n",
      "TOOL NAME: `get-local-git-changes-info`\n",
      "TOOL DESCRIPTION:\n",
      "\n",
      "Get comprehensive information about local Git changes including overview and diffs\n",
      "\n",
      "Shows uncommitted changes in the current Git repository with safe handling\n",
      "of binary files, large files, and automatic ...\n",
      "---\n",
      "\n"
     ]
    }
   ],
   "source": [
    "server_params = StdioServerParameters(\n",
    "    command='python',\n",
    "    args=['-m', 'mcp_this', '--preset', 'github'],\n",
    ")\n",
    "\n",
    "async with stdio_client(server_params) as (read, write), ClientSession(read, write) as session:\n",
    "    await session.initialize()\n",
    "    tools = await session.list_tools()\n",
    "    print(\"Available GitHub tools:\\n-----------------------\\n\")\n",
    "    for tool in tools.tools:\n",
    "        print(f\"TOOL NAME: `{tool.name}`\\n{tool.description.split('.')[0]}...\\n---\\n\")\n",
    "\n",
    "    # Store the session for later use\n",
    "    github_session = session\n",
    "    github_tools = tools"
   ]
  },
  {
   "cell_type": "markdown",
   "metadata": {},
   "source": [
    "---"
   ]
  },
  {
   "cell_type": "markdown",
   "metadata": {},
   "source": [
    "# MCP Prompts"
   ]
  },
  {
   "cell_type": "code",
   "execution_count": 3,
   "metadata": {},
   "outputs": [
    {
     "name": "stdout",
     "output_type": "stream",
     "text": [
      "Available GitHub Prompts:\n",
      "-----------------------\n",
      "\n",
      "`create-pr-description` - [PromptArgument(name='url_or_changes', description=None, required=True)]\n",
      "`create-commit-message` - [PromptArgument(name='path_or_changes', description=None, required=True)]\n",
      "`code-review` - [PromptArgument(name='url_or_changes', description=None, required=True), PromptArgument(name='focus_areas', description=None, required=False)]\n"
     ]
    }
   ],
   "source": [
    "server_params = StdioServerParameters(\n",
    "    command='python',\n",
    "    args=['-m', 'mcp_this', '--preset', 'github'],\n",
    ")\n",
    "\n",
    "async with stdio_client(server_params) as (read, write), ClientSession(read, write) as session:\n",
    "    await session.initialize()\n",
    "    prompts = await session.list_prompts()\n",
    "    print(\"Available GitHub Prompts:\\n-----------------------\\n\")\n",
    "    for prompt in prompts.prompts:\n",
    "        print(f\"`{prompt.name}` - {prompt.arguments}\")\n"
   ]
  },
  {
   "cell_type": "markdown",
   "metadata": {},
   "source": [
    "---"
   ]
  },
  {
   "cell_type": "markdown",
   "metadata": {},
   "source": [
    "## Analyze a Pull Request\n",
    "\n",
    "Let's use the `get-github-pull-request-info` tool to analyze a specific Pull Request. This tool provides comprehensive information including:\n",
    "- PR overview (title, description, status, metadata)\n",
    "- Summary of files changed with addition/deletion counts\n",
    "- Complete cumulative diff showing all changes"
   ]
  },
  {
   "cell_type": "code",
   "execution_count": null,
   "metadata": {},
   "outputs": [
    {
     "name": "stdout",
     "output_type": "stream",
     "text": [
      "Analyzing Pull Request: https://github.com/shane-kercheval/mcp-this/pull/2\n",
      "\n",
      "============================================================\n"
     ]
    }
   ],
   "source": [
    "# Analyze PR #2 from the mcp-this repository\n",
    "pr_url = \"https://github.com/shane-kercheval/mcp-this/pull/2\"\n",
    "\n",
    "async with stdio_client(server_params) as (read, write), ClientSession(read, write) as session:\n",
    "    await session.initialize()\n",
    "    print(f\"Analyzing Pull Request: {pr_url}\\n\")\n",
    "    print(\"=\" * 60)\n",
    "    pr_result = await session.call_tool(\n",
    "        'get-github-pull-request-info',\n",
    "        {'pr_url': pr_url},\n",
    "    )"
   ]
  },
  {
   "cell_type": "markdown",
   "metadata": {},
   "source": [
    "## Display PR Analysis Results\n",
    "\n",
    "Let's examine the detailed information returned by the tool:"
   ]
  },
  {
   "cell_type": "code",
   "execution_count": null,
   "metadata": {},
   "outputs": [],
   "source": [
    "print(pr_result.content[0].text)"
   ]
  },
  {
   "cell_type": "markdown",
   "metadata": {},
   "source": [
    "---"
   ]
  },
  {
   "cell_type": "markdown",
   "metadata": {},
   "source": [
    "## Analyze Local Git Changes\n",
    "\n",
    "The `get-local-changes-info` tool provides comprehensive information about local Git changes in a repository, including staged and unstaged changes, file summaries, and safe handling of untracked files."
   ]
  },
  {
   "cell_type": "code",
   "execution_count": null,
   "metadata": {},
   "outputs": [],
   "source": [
    "# Analyze local Git changes in the current repository\n",
    "import os\n",
    "project_root = os.path.dirname(os.getcwd())\n",
    "\n",
    "async with stdio_client(server_params) as (read, write), ClientSession(read, write) as session:\n",
    "    await session.initialize()\n",
    "    print(f\"Analyzing local Git changes in: {project_root}\\n\")\n",
    "    print(\"=\" * 60)\n",
    "\n",
    "    # Call the get-local-git-changes-info tool\n",
    "    local_changes_result = await session.call_tool(\n",
    "        'get-local-git-changes-info',\n",
    "        {'directory': project_root},\n",
    "    )"
   ]
  },
  {
   "cell_type": "markdown",
   "metadata": {},
   "source": [
    "## Display Local Changes Analysis"
   ]
  },
  {
   "cell_type": "code",
   "execution_count": null,
   "metadata": {},
   "outputs": [],
   "source": [
    "print(local_changes_result.content[0].text)"
   ]
  },
  {
   "cell_type": "markdown",
   "metadata": {},
   "source": [
    "### Key Features of Local Changes Analysis\n",
    "\n",
    "The `get-local-changes-info` tool provides:\n",
    "\n",
    "1. **Git Status Overview**: Shows modified, staged, and untracked files\n",
    "2. **Change Summary**: Displays file change statistics with addition/deletion counts  \n",
    "3. **Staged Changes**: Complete diff of all staged changes ready to commit\n",
    "4. **Unstaged Changes**: Complete diff of all working directory changes\n",
    "5. **Safe Untracked File Handling**: \n",
    "   - Automatically detects and skips binary files (images, executables, etc.)\n",
    "   - Limits file size display (skips files >100KB)\n",
    "   - Shows file sizes for context\n",
    "   - Respects .gitignore patterns for untracked files\n",
    "\n",
    "This tool is particularly useful for:\n",
    "- **Pre-commit reviews**: Understanding exactly what changes will be committed\n",
    "- **Debugging workflows**: Seeing the complete state of your working directory\n",
    "- **Code reviews**: Getting comprehensive diffs before creating pull requests\n",
    "- **Safe file inspection**: Avoiding issues with binary files or oversized content"
   ]
  },
  {
   "cell_type": "markdown",
   "metadata": {},
   "source": [
    "---"
   ]
  },
  {
   "cell_type": "markdown",
   "metadata": {},
   "source": [
    "## Integration Tips\n",
    "\n",
    "### Using GitHub Tools in Your Workflow\n",
    "\n",
    "1. **Code Review Analysis**: Use `get-github-pull-request-info` to quickly understand the scope and impact of changes in a PR\n",
    "\n",
    "2. **Automated Reports**: Extract PR information for generating automated review reports or documentation\n",
    "\n",
    "3. **Change Impact Assessment**: Review file changes and diffs to understand the impact of proposed changes\n",
    "\n",
    "### Prerequisites Reminder\n",
    "\n",
    "For the GitHub tools to work properly, ensure you have:\n",
    "- GitHub CLI installed: `brew install gh` (macOS) or visit https://cli.github.com/\n",
    "- Authenticated with GitHub: `gh auth login`\n",
    "- Access to the repositories you want to analyze (public repos work without additional setup)\n",
    "\n",
    "### Claude Desktop Integration\n",
    "\n",
    "To use these tools in Claude Desktop, add this to your configuration:\n",
    "\n",
    "```json\n",
    "{\n",
    "  \"mcpServers\": {\n",
    "    \"mcp-this-github\": {\n",
    "      \"command\": \"uvx\",\n",
    "      \"args\": [\"mcp-this\", \"--preset\", \"github\"]\n",
    "    }\n",
    "  }\n",
    "}\n",
    "```"
   ]
  }
 ],
 "metadata": {
  "kernelspec": {
   "display_name": ".venv",
   "language": "python",
   "name": "python3"
  },
  "language_info": {
   "codemirror_mode": {
    "name": "ipython",
    "version": 3
   },
   "file_extension": ".py",
   "mimetype": "text/x-python",
   "name": "python",
   "nbconvert_exporter": "python",
   "pygments_lexer": "ipython3",
   "version": "3.13.1"
  }
 },
 "nbformat": 4,
 "nbformat_minor": 4
}
