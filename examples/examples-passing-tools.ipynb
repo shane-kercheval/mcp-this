{
 "cells": [
  {
   "cell_type": "code",
   "execution_count": 1,
   "id": "2f7b5f8a",
   "metadata": {},
   "outputs": [],
   "source": [
    "import json\n",
    "from mcp import ClientSession, StdioServerParameters\n",
    "from mcp.client.stdio import stdio_client"
   ]
  },
  {
   "cell_type": "code",
   "execution_count": 2,
   "id": "f7e205d9",
   "metadata": {},
   "outputs": [
    {
     "name": "stdout",
     "output_type": "stream",
     "text": [
      "\"{\\\"tools\\\": {\\\"directory-tree\\\": {\\\"description\\\": \\\"Generate a directory tree with standard exclusions and gitignore support\\\", \\\"execution\\\": {\\\"command\\\": \\\"tree <<directory>> -a --gitignore -I \\\\\\\".git|.claude|.env|.venv|env|node_modules|__pycache__|.DS_Store|*.pyc<<custom_excludes>>\\\\\\\" <<format_args>>\\\"}, \\\"parameters\\\": {\\\"directory\\\": {\\\"description\\\": \\\"Directory to generate tree for\\\", \\\"required\\\": true}, \\\"custom_excludes\\\": {\\\"description\\\": \\\"Additional patterns to exclude (begin with | e.g., '|build|dist')\\\", \\\"required\\\": false}, \\\"format_args\\\": {\\\"description\\\": \\\"Additional formatting arguments (e.g., '-L 3 -C --dirsfirst')\\\", \\\"required\\\": false}}}, \\\"extract-html-text\\\": {\\\"description\\\": \\\"Fetch a webpage and extract pure text, removing HTML tags\\\", \\\"execution\\\": {\\\"command\\\": \\\"curl -s <<url>> | sed '/<style/,/<\\\\\\\\/style>/d; /<script/,/<\\\\\\\\/script>/d' | sed 's/<[^>]*>//g' | grep -v '^$' | sed 's/^[[:space:]]*//' | sed '/^[[:space:]]*$/d' | sed -e ':a' -e 'N' -e '$!ba' -e 's/\\\\\\\\n\\\\\\\\n\\\\\\\\n*/\\\\\\\\n\\\\\\\\n/g'\\\"}, \\\"parameters\\\": {\\\"url\\\": {\\\"description\\\": \\\"URL of the webpage to fetch\\\", \\\"required\\\": true}}}}}\"\n"
     ]
    }
   ],
   "source": [
    "toolset_config = {\n",
    "    'tools': {\n",
    "        'directory-tree': {\n",
    "            'description': \"Generate a directory tree with standard exclusions and gitignore support\",\n",
    "            'execution': {\n",
    "                'command': 'tree <<directory>> -a --gitignore -I \".git|.claude|.env|.venv|env|node_modules|__pycache__|.DS_Store|*.pyc<<custom_excludes>>\" <<format_args>>',  # noqa: E501\n",
    "            },\n",
    "            'parameters': {\n",
    "                'directory': {\n",
    "                    'description': \"Directory to generate tree for\",\n",
    "                    \"required\": True,\n",
    "                },\n",
    "                'custom_excludes': {\n",
    "                    'description': \"Additional patterns to exclude (begin with | e.g., '|build|dist')\",\n",
    "                    'required': False,\n",
    "                },\n",
    "                'format_args': {\n",
    "                    'description': \"Additional formatting arguments (e.g., '-L 3 -C --dirsfirst')\",\n",
    "                    'required': False,\n",
    "                },\n",
    "            },\n",
    "        },\n",
    "        'extract-html-text': {\n",
    "            'description': \"Fetch a webpage and extract pure text, removing HTML tags\",\n",
    "            'execution': {\n",
    "                'command': \"curl -s <<url>> | sed '/<style/,/<\\\\/style>/d; /<script/,/<\\\\/script>/d' | sed 's/<[^>]*>//g' | grep -v '^$' | sed 's/^[[:space:]]*//' | sed '/^[[:space:]]*$/d' | sed -e ':a' -e 'N' -e '$!ba' -e 's/\\\\n\\\\n\\\\n*/\\\\n\\\\n/g'\", \n",
    "            },\n",
    "            'parameters': {\n",
    "                'url': {\n",
    "                'description': \"URL of the webpage to fetch\",\n",
    "                'required': True,\n",
    "                },\n",
    "            },\n",
    "        },\n",
    "    },\n",
    "}\n",
    "# convert to json string\n",
    "toolset_config_json = json.dumps(toolset_config)\n",
    "print(json.dumps(toolset_config_json))"
   ]
  },
  {
   "cell_type": "code",
   "execution_count": 3,
   "id": "07fcac3d",
   "metadata": {},
   "outputs": [
    {
     "name": "stdout",
     "output_type": "stream",
     "text": [
      "Available tools:\n",
      "-----------------------\n",
      "\n",
      "Tool: `directory-tree`:\n",
      "=============\n",
      "\n",
      "TOOL DESCRIPTION:\n",
      "\n",
      "Generate a directory tree with standard exclusions and gitignore support\n",
      "\n",
      "COMMAND CALLED:\n",
      "\n",
      "`tree <<directory>> -a --gitignore -I \".git|.claude|.env|.venv|env|node_modules|__pycache__|.DS_Store|*.pyc<<custom_excludes>>\" <<format_args>>`\n",
      "\n",
      "Text like <<parameter_name>> (e.g. <<directory>>) will be replaced with parameter values.\n",
      "\n",
      "PARAMETERS:\n",
      "\n",
      "- directory [REQUIRED] (string): Directory to generate tree for\n",
      "- custom_excludes [OPTIONAL] (string): Additional patterns to exclude (begin with | e.g., '|build|dist')\n",
      "- format_args [OPTIONAL] (string): Additional formatting arguments (e.g., '-L 3 -C --dirsfirst')\n",
      "-----------------------\n",
      "\n",
      "Tool: `extract-html-text`:\n",
      "=============\n",
      "\n",
      "TOOL DESCRIPTION:\n",
      "\n",
      "Fetch a webpage and extract pure text, removing HTML tags\n",
      "\n",
      "COMMAND CALLED:\n",
      "\n",
      "`curl -s <<url>> | sed '/<style/,/<\\/style>/d; /<script/,/<\\/script>/d' | sed 's/<[^>]*>//g' | grep -v '^$' | sed 's/^[[:space:]]*//' | sed '/^[[:space:]]*$/d' | sed -e ':a' -e 'N' -e '$!ba' -e 's/\\n\\n\\n*/\\n\\n/g'`\n",
      "\n",
      "Text like <<parameter_name>> (e.g. <<url>>) will be replaced with parameter values.\n",
      "\n",
      "PARAMETERS:\n",
      "\n",
      "- url [REQUIRED] (string): URL of the webpage to fetch\n",
      "-----------------------\n",
      "\n"
     ]
    }
   ],
   "source": [
    "server_params = StdioServerParameters(\n",
    "    command='python',\n",
    "    args=['-m', 'mcp_this', '--tools', json.dumps(toolset_config)],\n",
    ")\n",
    "\n",
    "async with stdio_client(server_params) as (read, write):  # noqa: SIM117\n",
    "    async with ClientSession(read, write) as session:\n",
    "        await session.initialize()\n",
    "        tools = await session.list_tools()\n",
    "        print(\"Available tools:\\n-----------------------\\n\")\n",
    "        for tool in tools.tools:\n",
    "            print(f\"Tool: `{tool.name}`:\\n=============\\n\")\n",
    "            print(f\"{tool.description}\\n-----------------------\\n\")\n",
    "\n",
    "        dir_tree_result = await session.call_tool(\n",
    "            'directory-tree',\n",
    "            {'directory': '..'},\n",
    "        )\n",
    "        extract_text_result = await session.call_tool(\n",
    "            'extract-html-text',\n",
    "            {'url': 'https://example.com'},\n",
    "        )"
   ]
  },
  {
   "cell_type": "code",
   "execution_count": 4,
   "id": "23206a64",
   "metadata": {},
   "outputs": [
    {
     "data": {
      "text/plain": [
       "Tool(name='extract-html-text', description=\"TOOL DESCRIPTION:\\n\\nFetch a webpage and extract pure text, removing HTML tags\\n\\nCOMMAND CALLED:\\n\\n`curl -s <<url>> | sed '/<style/,/<\\\\/style>/d; /<script/,/<\\\\/script>/d' | sed 's/<[^>]*>//g' | grep -v '^$' | sed 's/^[[:space:]]*//' | sed '/^[[:space:]]*$/d' | sed -e ':a' -e 'N' -e '$!ba' -e 's/\\\\n\\\\n\\\\n*/\\\\n\\\\n/g'`\\n\\nText like <<parameter_name>> (e.g. <<url>>) will be replaced with parameter values.\\n\\nPARAMETERS:\\n\\n- url [REQUIRED] (string): URL of the webpage to fetch\", inputSchema={'properties': {'url': {'title': 'url', 'type': 'string'}}, 'required': ['url'], 'title': 'extract_html_textArguments', 'type': 'object'}, annotations=None)"
      ]
     },
     "execution_count": 4,
     "metadata": {},
     "output_type": "execute_result"
    }
   ],
   "source": [
    "# last tool\n",
    "tool"
   ]
  },
  {
   "cell_type": "code",
   "execution_count": 5,
   "id": "a8ddb835",
   "metadata": {},
   "outputs": [
    {
     "data": {
      "text/plain": [
       "CallToolResult(meta=None, content=[TextContent(type='text', text='..\\n├── .github\\n│\\xa0\\xa0 └── workflows\\n│\\xa0\\xa0     └── tests.yaml\\n├── .gitignore\\n├── .ruff.toml\\n├── LICENSE\\n├── Makefile\\n├── README.md\\n├── documentation\\n│\\xa0\\xa0 └── images\\n│\\xa0\\xa0     ├── custom-tool-example.png\\n│\\xa0\\xa0     ├── custom-tool.png\\n│\\xa0\\xa0     ├── default-tools.png\\n│\\xa0\\xa0     ├── server-default.png\\n│\\xa0\\xa0     ├── servers-default-custom.png\\n│\\xa0\\xa0     └── tool-allow.png\\n├── examples\\n│\\xa0\\xa0 ├── cli.py\\n│\\xa0\\xa0 ├── custom_tools.yaml\\n│\\xa0\\xa0 ├── examples-default-tools.ipynb\\n│\\xa0\\xa0 ├── examples-editing-tools.ipynb\\n│\\xa0\\xa0 ├── examples-github-tools.ipynb\\n│\\xa0\\xa0 ├── examples-passing-tools.ipynb\\n│\\xa0\\xa0 ├── mcp_config_cli.json\\n│\\xa0\\xa0 ├── temp\\n│\\xa0\\xa0 │\\xa0\\xa0 ├── example.txt\\n│\\xa0\\xa0 │\\xa0\\xa0 └── nested\\n│\\xa0\\xa0 │\\xa0\\xa0     └── example\\n│\\xa0\\xa0 │\\xa0\\xa0         └── directory\\n│\\xa0\\xa0 └── tools_example.yaml\\n├── pyproject.toml\\n├── src\\n│\\xa0\\xa0 └── mcp_this\\n│\\xa0\\xa0     ├── __init__.py\\n│\\xa0\\xa0     ├── __main__.py\\n│\\xa0\\xa0     ├── configs\\n│\\xa0\\xa0     │\\xa0\\xa0 ├── default.yaml\\n│\\xa0\\xa0     │\\xa0\\xa0 ├── editing.yaml\\n│\\xa0\\xa0     │\\xa0\\xa0 └── github.yaml\\n│\\xa0\\xa0     ├── mcp_server.py\\n│\\xa0\\xa0     └── tools.py\\n├── temp.txt\\n├── tests\\n│\\xa0\\xa0 ├── fixtures\\n│\\xa0\\xa0 │\\xa0\\xa0 └── test_config.yaml\\n│\\xa0\\xa0 ├── test_builtin_config_default.py\\n│\\xa0\\xa0 ├── test_builtin_config_editing.py\\n│\\xa0\\xa0 ├── test_builtin_config_github.py\\n│\\xa0\\xa0 ├── test_command_execution_edge_cases.py\\n│\\xa0\\xa0 ├── test_config_files.py\\n│\\xa0\\xa0 ├── test_config_loading.py\\n│\\xa0\\xa0 ├── test_main.py\\n│\\xa0\\xa0 ├── test_mcp_server.py\\n│\\xa0\\xa0 └── test_tool_registration.py\\n└── uv.lock\\n\\n15 directories, 41 files\\n', annotations=None)], isError=False)"
      ]
     },
     "execution_count": 5,
     "metadata": {},
     "output_type": "execute_result"
    }
   ],
   "source": [
    "dir_tree_result"
   ]
  },
  {
   "cell_type": "code",
   "execution_count": 6,
   "id": "7e45e3e1",
   "metadata": {},
   "outputs": [
    {
     "name": "stdout",
     "output_type": "stream",
     "text": [
      "..\n",
      "├── .github\n",
      "│   └── workflows\n",
      "│       └── tests.yaml\n",
      "├── .gitignore\n",
      "├── .ruff.toml\n",
      "├── LICENSE\n",
      "├── Makefile\n",
      "├── README.md\n",
      "├── documentation\n",
      "│   └── images\n",
      "│       ├── custom-tool-example.png\n",
      "│       ├── custom-tool.png\n",
      "│       ├── default-tools.png\n",
      "│       ├── server-default.png\n",
      "│       ├── servers-default-custom.png\n",
      "│       └── tool-allow.png\n",
      "├── examples\n",
      "│   ├── cli.py\n",
      "│   ├── custom_tools.yaml\n",
      "│   ├── examples-default-tools.ipynb\n",
      "│   ├── examples-editing-tools.ipynb\n",
      "│   ├── examples-github-tools.ipynb\n",
      "│   ├── examples-passing-tools.ipynb\n",
      "│   ├── mcp_config_cli.json\n",
      "│   ├── temp\n",
      "│   │   ├── example.txt\n",
      "│   │   └── nested\n",
      "│   │       └── example\n",
      "│   │           └── directory\n",
      "│   └── tools_example.yaml\n",
      "├── pyproject.toml\n",
      "├── src\n",
      "│   └── mcp_this\n",
      "│       ├── __init__.py\n",
      "│       ├── __main__.py\n",
      "│       ├── configs\n",
      "│       │   ├── default.yaml\n",
      "│       │   ├── editing.yaml\n",
      "│       │   └── github.yaml\n",
      "│       ├── mcp_server.py\n",
      "│       └── tools.py\n",
      "├── temp.txt\n",
      "├── tests\n",
      "│   ├── fixtures\n",
      "│   │   └── test_config.yaml\n",
      "│   ├── test_builtin_config_default.py\n",
      "│   ├── test_builtin_config_editing.py\n",
      "│   ├── test_builtin_config_github.py\n",
      "│   ├── test_command_execution_edge_cases.py\n",
      "│   ├── test_config_files.py\n",
      "│   ├── test_config_loading.py\n",
      "│   ├── test_main.py\n",
      "│   ├── test_mcp_server.py\n",
      "│   └── test_tool_registration.py\n",
      "└── uv.lock\n",
      "\n",
      "15 directories, 41 files\n",
      "\n"
     ]
    }
   ],
   "source": [
    "print(dir_tree_result.content[0].text)"
   ]
  },
  {
   "cell_type": "code",
   "execution_count": 7,
   "id": "baff4f1e",
   "metadata": {},
   "outputs": [
    {
     "name": "stdout",
     "output_type": "stream",
     "text": [
      "Example Domain\n",
      "Example Domain\n",
      "This domain is for use in illustrative examples in documents. You may use this\n",
      "domain in literature without prior coordination or asking for permission.\n",
      "More information...\n",
      "\n"
     ]
    }
   ],
   "source": [
    "print(extract_text_result.content[0].text)"
   ]
  }
 ],
 "metadata": {
  "kernelspec": {
   "display_name": ".venv",
   "language": "python",
   "name": "python3"
  },
  "language_info": {
   "codemirror_mode": {
    "name": "ipython",
    "version": 3
   },
   "file_extension": ".py",
   "mimetype": "text/x-python",
   "name": "python",
   "nbconvert_exporter": "python",
   "pygments_lexer": "ipython3",
   "version": "3.13.1"
  }
 },
 "nbformat": 4,
 "nbformat_minor": 5
}
