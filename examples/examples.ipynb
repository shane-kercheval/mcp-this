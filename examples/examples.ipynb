{
 "cells": [
  {
   "cell_type": "code",
   "execution_count": 1,
   "id": "2f7b5f8a",
   "metadata": {},
   "outputs": [],
   "source": [
    "import json\n",
    "from mcp import ClientSession, StdioServerParameters\n",
    "from mcp.client.stdio import stdio_client"
   ]
  },
  {
   "cell_type": "code",
   "execution_count": 8,
   "id": "f7e205d9",
   "metadata": {},
   "outputs": [
    {
     "name": "stdout",
     "output_type": "stream",
     "text": [
      "\"{\\\"tools\\\": {\\\"extract-html-text\\\": {\\\"description\\\": \\\"Fetch a webpage and extract pure text, removing HTML tags\\\", \\\"execution\\\": {\\\"command\\\": \\\"curl -s <<url>> | sed '/<style/,/<\\\\\\\\/style>/d; /<script/,/<\\\\\\\\/script>/d' | sed 's/<[^>]*>//g' | grep -v '^$' | sed 's/^[[:space:]]*//' | sed '/^[[:space:]]*$/d' | sed -e ':a' -e 'N' -e '$!ba' -e 's/\\\\\\\\n\\\\\\\\n\\\\\\\\n*/\\\\\\\\n\\\\\\\\n/g'\\\"}, \\\"parameters\\\": {\\\"url\\\": {\\\"description\\\": \\\"URL of the webpage to fetch\\\", \\\"required\\\": true}}}, \\\"extract-html-links\\\": {\\\"description\\\": \\\"Fetch a webpage and extract all links with their text\\\", \\\"execution\\\": {\\\"command\\\": \\\"curl -s <<url>> | grep -o '<a [^>]*>.*</a>' | sed 's/<a [^>]*href=\\\\\\\"\\\\\\\\([^\\\\\\\"]*\\\\\\\\)\\\\\\\"[^>]*>\\\\\\\\(.*\\\\\\\\)<\\\\\\\\/a>/\\\\\\\\2 (\\\\\\\\1)/'\\\"}, \\\"parameters\\\": {\\\"url\\\": {\\\"description\\\": \\\"URL of the webpage to fetch\\\", \\\"required\\\": true}}}}}\"\n"
     ]
    }
   ],
   "source": [
    "toolset_config = {\n",
    "  \"tools\": {\n",
    "    \"extract-html-text\": {\n",
    "      \"description\": \"Fetch a webpage and extract pure text, removing HTML tags\",\n",
    "      \"execution\": {\n",
    "        \"command\": \"curl -s <<url>> | sed '/<style/,/<\\\\/style>/d; /<script/,/<\\\\/script>/d' | sed 's/<[^>]*>//g' | grep -v '^$' | sed 's/^[[:space:]]*//' | sed '/^[[:space:]]*$/d' | sed -e ':a' -e 'N' -e '$!ba' -e 's/\\\\n\\\\n\\\\n*/\\\\n\\\\n/g'\", \n",
    "      },\n",
    "      \"parameters\": {\n",
    "        \"url\": {\n",
    "          \"description\": \"URL of the webpage to fetch\",\n",
    "           \"required\": True\n",
    "        }\n",
    "      }\n",
    "    },\n",
    "    \"extract-html-links\": {\n",
    "      \"description\": \"Fetch a webpage and extract all links with their text\",\n",
    "      \"execution\": {\n",
    "        \"command\": \"curl -s <<url>> | grep -o '<a [^>]*>.*</a>' | sed 's/<a [^>]*href=\\\"\\\\([^\\\"]*\\\\)\\\"[^>]*>\\\\(.*\\\\)<\\\\/a>/\\\\2 (\\\\1)/'\",\n",
    "      },\n",
    "      \"parameters\": {\n",
    "        \"url\": {\n",
    "          \"description\": \"URL of the webpage to fetch\",\n",
    "          \"required\": True\n",
    "        }\n",
    "      }\n",
    "    }\n",
    "  }\n",
    "}\n",
    "# convert to json string\n",
    "toolset_config_json = json.dumps(toolset_config)\n",
    "print(json.dumps(toolset_config_json))"
   ]
  },
  {
   "cell_type": "code",
   "execution_count": 32,
   "id": "07fcac3d",
   "metadata": {},
   "outputs": [
    {
     "name": "stdout",
     "output_type": "stream",
     "text": [
      "Available tools:\n",
      "\n",
      "extract-html-text:\n",
      "===\n",
      "TOOL DESCRIPTION:\n",
      "\n",
      "Fetch a webpage and extract pure text, removing HTML tags\n",
      "\n",
      "COMMAND CALLED:\n",
      "\n",
      "`curl -s <<url>> | sed '/<style/,/<\\/style>/d; /<script/,/<\\/script>/d' | sed 's/<[^>]*>//g' | grep -v '^$' | sed 's/^[[:space:]]*//' | sed '/^[[:space:]]*$/d' | sed -e ':a' -e 'N' -e '$!ba' -e 's/\\n\\n\\n*/\\n\\n/g'`\n",
      "\n",
      "Text like <<parameter_name>> (e.g. <<url>>) will be replaced with parameter values.\n",
      "\n",
      "PARAMETERS:\n",
      "\n",
      "- url [REQUIRED] (string): URL of the webpage to fetch\n",
      "-----------------------\n",
      "extract-html-links:\n",
      "===\n",
      "TOOL DESCRIPTION:\n",
      "\n",
      "Fetch a webpage and extract all links with their text\n",
      "\n",
      "COMMAND CALLED:\n",
      "\n",
      "`curl -s <<url>> | grep -o '<a [^>]*>.*</a>' | sed 's/<a [^>]*href=\"\\([^\"]*\\)\"[^>]*>\\(.*\\)<\\/a>/\\2 (\\1)/'`\n",
      "\n",
      "Text like <<parameter_name>> (e.g. <<url>>) will be replaced with parameter values.\n",
      "\n",
      "PARAMETERS:\n",
      "\n",
      "- url [REQUIRED] (string): URL of the webpage to fetch\n",
      "-----------------------\n"
     ]
    }
   ],
   "source": [
    "server_params = StdioServerParameters(\n",
    "    command=\"python\",\n",
    "    # args=[\"-m\", \"mcp_this\", \"--tools_path\", 'toolset_example__curl.yaml'],\n",
    "    args=[\"-m\", \"mcp_this\", \"--tools\", json.dumps(toolset_config)],\n",
    ")\n",
    "\n",
    "async with stdio_client(server_params) as (read, write):  # noqa: SIM117\n",
    "    async with ClientSession(read, write) as session:\n",
    "        await session.initialize()\n",
    "        tools = await session.list_tools()\n",
    "        print(\"Available tools:\\n\")\n",
    "        for tool in tools.tools:\n",
    "            print(f\"{tool.name}:\\n===\")\n",
    "            print(f\"{tool.description}\")\n",
    "            print('-----------------------')\n",
    "\n",
    "        extract_text_result = await session.call_tool(\n",
    "            \"extract-html-text\",\n",
    "            {\"url\": \"https://example.com\"},\n",
    "        )\n",
    "        extract_links_result = await session.call_tool(\n",
    "            \"extract-html-links\",\n",
    "            {\"url\": \"https://example.com\"},\n",
    "        )"
   ]
  },
  {
   "cell_type": "code",
   "execution_count": 33,
   "id": "23206a64",
   "metadata": {},
   "outputs": [
    {
     "data": {
      "text/plain": [
       "Tool(name='extract-html-links', description='TOOL DESCRIPTION:\\n\\nFetch a webpage and extract all links with their text\\n\\nCOMMAND CALLED:\\n\\n`curl -s <<url>> | grep -o \\'<a [^>]*>.*</a>\\' | sed \\'s/<a [^>]*href=\"\\\\([^\"]*\\\\)\"[^>]*>\\\\(.*\\\\)<\\\\/a>/\\\\2 (\\\\1)/\\'`\\n\\nText like <<parameter_name>> (e.g. <<url>>) will be replaced with parameter values.\\n\\nPARAMETERS:\\n\\n- url [REQUIRED] (string): URL of the webpage to fetch', inputSchema={'properties': {'url': {'title': 'url', 'type': 'string'}}, 'required': ['url'], 'title': 'extract_html_linksArguments', 'type': 'object'}, annotations=None)"
      ]
     },
     "execution_count": 33,
     "metadata": {},
     "output_type": "execute_result"
    }
   ],
   "source": [
    "tool"
   ]
  },
  {
   "cell_type": "code",
   "execution_count": 34,
   "id": "f59385ea",
   "metadata": {},
   "outputs": [
    {
     "data": {
      "text/plain": [
       "CallToolResult(meta=None, content=[TextContent(type='text', text='Example Domain\\nExample Domain\\nThis domain is for use in illustrative examples in documents. You may use this\\ndomain in literature without prior coordination or asking for permission.\\nMore information...\\n', annotations=None)], isError=False)"
      ]
     },
     "execution_count": 34,
     "metadata": {},
     "output_type": "execute_result"
    }
   ],
   "source": [
    "extract_text_result"
   ]
  },
  {
   "cell_type": "code",
   "execution_count": 35,
   "id": "baff4f1e",
   "metadata": {},
   "outputs": [
    {
     "name": "stdout",
     "output_type": "stream",
     "text": [
      "Example Domain\n",
      "Example Domain\n",
      "This domain is for use in illustrative examples in documents. You may use this\n",
      "domain in literature without prior coordination or asking for permission.\n",
      "More information...\n",
      "\n"
     ]
    }
   ],
   "source": [
    "print(extract_text_result.content[0].text)"
   ]
  },
  {
   "cell_type": "code",
   "execution_count": 36,
   "id": "7e45e3e1",
   "metadata": {},
   "outputs": [
    {
     "name": "stdout",
     "output_type": "stream",
     "text": [
      "More information... (https://www.iana.org/domains/example)\n",
      "\n"
     ]
    }
   ],
   "source": [
    "print(extract_links_result.content[0].text)"
   ]
  },
  {
   "cell_type": "code",
   "execution_count": null,
   "id": "333155f5",
   "metadata": {},
   "outputs": [],
   "source": []
  }
 ],
 "metadata": {
  "kernelspec": {
   "display_name": ".venv",
   "language": "python",
   "name": "python3"
  },
  "language_info": {
   "codemirror_mode": {
    "name": "ipython",
    "version": 3
   },
   "file_extension": ".py",
   "mimetype": "text/x-python",
   "name": "python",
   "nbconvert_exporter": "python",
   "pygments_lexer": "ipython3",
   "version": "3.13.1"
  }
 },
 "nbformat": 4,
 "nbformat_minor": 5
}
