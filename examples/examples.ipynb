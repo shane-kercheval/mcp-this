{
 "cells": [
  {
   "cell_type": "code",
   "execution_count": 1,
   "id": "2f7b5f8a",
   "metadata": {},
   "outputs": [],
   "source": [
    "import json\n",
    "from mcp import ClientSession, StdioServerParameters\n",
    "from mcp.client.stdio import stdio_client"
   ]
  },
  {
   "cell_type": "code",
   "execution_count": 1,
   "id": "f7e205d9",
   "metadata": {},
   "outputs": [
    {
     "ename": "NameError",
     "evalue": "name 'json' is not defined",
     "output_type": "error",
     "traceback": [
      "\u001b[31m---------------------------------------------------------------------------\u001b[39m",
      "\u001b[31mNameError\u001b[39m                                 Traceback (most recent call last)",
      "\u001b[36mCell\u001b[39m\u001b[36m \u001b[39m\u001b[32mIn[1]\u001b[39m\u001b[32m, line 24\u001b[39m\n\u001b[32m      1\u001b[39m toolset_config = {\n\u001b[32m      2\u001b[39m     \u001b[33m'\u001b[39m\u001b[33mtoolsets\u001b[39m\u001b[33m'\u001b[39m: {\n\u001b[32m      3\u001b[39m         \u001b[33m'\u001b[39m\u001b[33mweb\u001b[39m\u001b[33m'\u001b[39m: {\n\u001b[32m   (...)\u001b[39m\u001b[32m     21\u001b[39m     },\n\u001b[32m     22\u001b[39m }\n\u001b[32m     23\u001b[39m \u001b[38;5;66;03m# convert to json string\u001b[39;00m\n\u001b[32m---> \u001b[39m\u001b[32m24\u001b[39m toolset_config_json = \u001b[43mjson\u001b[49m.dumps(toolset_config, indent=\u001b[32m4\u001b[39m)\n",
      "\u001b[31mNameError\u001b[39m: name 'json' is not defined"
     ]
    }
   ],
   "source": [
    "toolset_config = {\n",
    "    'toolsets': {\n",
    "        'web': {\n",
    "            'description': 'Transfer data from or to a server',\n",
    "            'tools': {\n",
    "                'curl': {\n",
    "                    'description': 'Make HTTP requests',\n",
    "                    'execution': {\n",
    "                        'command': 'curl <<arguments>>',\n",
    "                        'uses_working_dir': True,\n",
    "                    },\n",
    "                    'parameters': {\n",
    "                        'arguments': {\n",
    "                            'description': 'Complete curl arguments including options and URL',\n",
    "                            'required': True,\n",
    "                        },\n",
    "                    },\n",
    "                },\n",
    "            },\n",
    "        },\n",
    "    },\n",
    "}\n",
    "# convert to json string\n",
    "toolset_config_json = json.dumps(toolset_config, indent=4)"
   ]
  },
  {
   "cell_type": "code",
   "execution_count": 2,
   "id": "07fcac3d",
   "metadata": {},
   "outputs": [
    {
     "ename": "NameError",
     "evalue": "name 'StdioServerParameters' is not defined",
     "output_type": "error",
     "traceback": [
      "\u001b[31m---------------------------------------------------------------------------\u001b[39m",
      "\u001b[31mNameError\u001b[39m                                 Traceback (most recent call last)",
      "\u001b[36mCell\u001b[39m\u001b[36m \u001b[39m\u001b[32mIn[2]\u001b[39m\u001b[32m, line 1\u001b[39m\n\u001b[32m----> \u001b[39m\u001b[32m1\u001b[39m server_params = \u001b[43mStdioServerParameters\u001b[49m(\n\u001b[32m      2\u001b[39m     command=\u001b[33m\"\u001b[39m\u001b[33mpython\u001b[39m\u001b[33m\"\u001b[39m,\n\u001b[32m      3\u001b[39m     \u001b[38;5;66;03m# args=[\"-m\", \"mcp_this\", \"--tools_path\", 'toolset_example__curl.yaml'],\u001b[39;00m\n\u001b[32m      4\u001b[39m     args=[\u001b[33m\"\u001b[39m\u001b[33m-m\u001b[39m\u001b[33m\"\u001b[39m, \u001b[33m\"\u001b[39m\u001b[33mmcp_this\u001b[39m\u001b[33m\"\u001b[39m, \u001b[33m\"\u001b[39m\u001b[33m--tools\u001b[39m\u001b[33m\"\u001b[39m, json.dumps(toolset_config, indent=\u001b[32m4\u001b[39m)],\n\u001b[32m      5\u001b[39m )\n\u001b[32m      7\u001b[39m \u001b[38;5;28;01masync\u001b[39;00m \u001b[38;5;28;01mwith\u001b[39;00m stdio_client(server_params) \u001b[38;5;28;01mas\u001b[39;00m (read, write):  \u001b[38;5;66;03m# noqa: SIM117\u001b[39;00m\n\u001b[32m      8\u001b[39m     \u001b[38;5;28;01masync\u001b[39;00m \u001b[38;5;28;01mwith\u001b[39;00m ClientSession(read, write) \u001b[38;5;28;01mas\u001b[39;00m session:\n",
      "\u001b[31mNameError\u001b[39m: name 'StdioServerParameters' is not defined"
     ]
    }
   ],
   "source": [
    "server_params = StdioServerParameters(\n",
    "    command=\"python\",\n",
    "    # args=[\"-m\", \"mcp_this\", \"--tools_path\", 'toolset_example__curl.yaml'],\n",
    "    args=[\"-m\", \"mcp_this\", \"--tools\", json.dumps(toolset_config, indent=4)],\n",
    ")\n",
    "\n",
    "async with stdio_client(server_params) as (read, write):  # noqa: SIM117\n",
    "    async with ClientSession(read, write) as session:\n",
    "        await session.initialize()\n",
    "        tools = await session.list_tools()\n",
    "        print(\"Available tools:\\n\")\n",
    "        for tool in tools.tools:\n",
    "            print(f\"{tool.name}:\\n===\")\n",
    "            print(f\"{tool.description}\")\n",
    "            print('-----------------------')\n",
    "\n",
    "        tool_result = await session.call_tool(\n",
    "            \"web-curl\",\n",
    "            {\"arguments\": \"https://example.com\"},\n",
    "        )"
   ]
  },
  {
   "cell_type": "code",
   "execution_count": 3,
   "id": "f59385ea",
   "metadata": {},
   "outputs": [
    {
     "ename": "NameError",
     "evalue": "name 'tool_result' is not defined",
     "output_type": "error",
     "traceback": [
      "\u001b[31m---------------------------------------------------------------------------\u001b[39m",
      "\u001b[31mNameError\u001b[39m                                 Traceback (most recent call last)",
      "\u001b[36mCell\u001b[39m\u001b[36m \u001b[39m\u001b[32mIn[3]\u001b[39m\u001b[32m, line 1\u001b[39m\n\u001b[32m----> \u001b[39m\u001b[32m1\u001b[39m \u001b[43mtool_result\u001b[49m\n",
      "\u001b[31mNameError\u001b[39m: name 'tool_result' is not defined"
     ]
    }
   ],
   "source": [
    "tool_result"
   ]
  },
  {
   "cell_type": "code",
   "execution_count": 5,
   "id": "baff4f1e",
   "metadata": {},
   "outputs": [
    {
     "name": "stdout",
     "output_type": "stream",
     "text": [
      "<!doctype html>\n",
      "<html>\n",
      "<head>\n",
      "    <title>Example Domain</title>\n",
      "\n",
      "    <meta charset=\"utf-8\" />\n",
      "    <meta http-equiv=\"Content-type\" content=\"text/html; charset=utf-8\" />\n",
      "    <meta name=\"viewport\" content=\"width=device-width, initial-scale=1\" />\n",
      "    <style type=\"text/css\">\n",
      "    body {\n",
      "        background-color: #f0f0f2;\n",
      "        margin: 0;\n",
      "        padding: 0;\n",
      "        font-family: -apple-system, system-ui, BlinkMacSystemFont, \"Segoe UI\", \"Open Sans\", \"Helvetica Neue\", Helvetica, Arial, sans-serif;\n",
      "        \n",
      "    }\n",
      "    div {\n",
      "        width: 600px;\n",
      "        margin: 5em auto;\n",
      "        padding: 2em;\n",
      "        background-color: #fdfdff;\n",
      "        border-radius: 0.5em;\n",
      "        box-shadow: 2px 3px 7px 2px rgba(0,0,0,0.02);\n",
      "    }\n",
      "    a:link, a:visited {\n",
      "        color: #38488f;\n",
      "        text-decoration: none;\n",
      "    }\n",
      "    @media (max-width: 700px) {\n",
      "        div {\n",
      "            margin: 0 auto;\n",
      "            width: auto;\n",
      "        }\n",
      "    }\n",
      "    </style>    \n",
      "</head>\n",
      "\n",
      "<body>\n",
      "<div>\n",
      "    <h1>Example Domain</h1>\n",
      "    <p>This domain is for use in illustrative examples in documents. You may use this\n",
      "    domain in literature without prior coordination or asking for permission.</p>\n",
      "    <p><a href=\"https://www.iana.org/domains/example\">More information...</a></p>\n",
      "</div>\n",
      "</body>\n",
      "</html>\n",
      "\n"
     ]
    }
   ],
   "source": [
    "print(tool_result.content[0].text)"
   ]
  },
  {
   "cell_type": "code",
   "execution_count": null,
   "id": "7e45e3e1",
   "metadata": {},
   "outputs": [],
   "source": []
  }
 ],
 "metadata": {
  "kernelspec": {
   "display_name": ".venv",
   "language": "python",
   "name": "python3"
  },
  "language_info": {
   "codemirror_mode": {
    "name": "ipython",
    "version": 3
   },
   "file_extension": ".py",
   "mimetype": "text/x-python",
   "name": "python",
   "nbconvert_exporter": "python",
   "pygments_lexer": "ipython3",
   "version": "3.13.1"
  }
 },
 "nbformat": 4,
 "nbformat_minor": 5
}
