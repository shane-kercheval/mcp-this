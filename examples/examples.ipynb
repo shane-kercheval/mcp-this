{
 "cells": [
  {
   "cell_type": "code",
   "execution_count": 1,
   "id": "2f7b5f8a",
   "metadata": {},
   "outputs": [],
   "source": [
    "import json\n",
    "from mcp import ClientSession, StdioServerParameters\n",
    "from mcp.client.stdio import stdio_client"
   ]
  },
  {
   "cell_type": "code",
   "id": "f7e205d9",
   "metadata": {},
   "outputs": [],
   "source": "toolset_config = {\n    'toolsets': {\n        'web': {\n            'description': 'Transfer data from or to a server',\n            'tools': {\n                'curl': {\n                    'description': 'Make HTTP requests',\n                    'execution': {\n                        'command': 'curl <<arguments>>',\n                    },\n                    'parameters': {\n                        'arguments': {\n                            'description': 'Complete curl arguments including options and URL',\n                            'required': True,\n                        },\n                    },\n                },\n            },\n        },\n    },\n}\n# convert to json string\ntoolset_config_json = json.dumps(toolset_config, indent=4)"
  },
  {
   "cell_type": "code",
   "execution_count": 3,
   "id": "07fcac3d",
   "metadata": {},
   "outputs": [
    {
     "name": "stdout",
     "output_type": "stream",
     "text": [
      "Available tools:\n",
      "\n",
      "web-curl:\n",
      "===\n",
      "TOOL DESCRIPTION:\n",
      "\n",
      "Make HTTP requests\n",
      "\n",
      "COMMAND CALLED:\n",
      "\n",
      "`curl <<arguments>>`\n",
      "\n",
      "Text like <<parameter_name>> (e.g. <<arguments>>) will be replaced with parameter values.\n",
      "\n",
      "PARAMETERS:\n",
      "\n",
      "- arguments [REQUIRED] (string): Complete curl arguments including options and URL\n",
      "- working_dir [OPTIONAL] (string, directory path): Directory to run the command in\n",
      "-----------------------\n"
     ]
    }
   ],
   "source": [
    "server_params = StdioServerParameters(\n",
    "    command=\"python\",\n",
    "    # args=[\"-m\", \"mcp_this\", \"--tools_path\", 'toolset_example__curl.yaml'],\n",
    "    args=[\"-m\", \"mcp_this\", \"--tools\", json.dumps(toolset_config, indent=4)],\n",
    ")\n",
    "\n",
    "async with stdio_client(server_params) as (read, write):  # noqa: SIM117\n",
    "    async with ClientSession(read, write) as session:\n",
    "        await session.initialize()\n",
    "        tools = await session.list_tools()\n",
    "        print(\"Available tools:\\n\")\n",
    "        for tool in tools.tools:\n",
    "            print(f\"{tool.name}:\\n===\")\n",
    "            print(f\"{tool.description}\")\n",
    "            print('-----------------------')\n",
    "\n",
    "        tool_result = await session.call_tool(\n",
    "            \"web-curl\",\n",
    "            {\"arguments\": \"https://example.com\"},\n",
    "        )"
   ]
  },
  {
   "cell_type": "code",
   "execution_count": 6,
   "id": "23206a64",
   "metadata": {},
   "outputs": [
    {
     "data": {
      "text/plain": [
       "Tool(name='web-curl', description='TOOL DESCRIPTION:\\n\\nMake HTTP requests\\n\\nCOMMAND CALLED:\\n\\n`curl <<arguments>>`\\n\\nText like <<parameter_name>> (e.g. <<arguments>>) will be replaced with parameter values.\\n\\nPARAMETERS:\\n\\n- arguments [REQUIRED] (string): Complete curl arguments including options and URL\\n- working_dir [OPTIONAL] (string, directory path): Directory to run the command in', inputSchema={'properties': {'arguments': {'title': 'arguments', 'type': 'string'}, 'working_dir': {'default': '', 'title': 'Working Dir', 'type': 'string'}}, 'required': ['arguments'], 'title': 'web_curlArguments', 'type': 'object'}, annotations=None)"
      ]
     },
     "execution_count": 6,
     "metadata": {},
     "output_type": "execute_result"
    }
   ],
   "source": [
    "tool"
   ]
  },
  {
   "cell_type": "code",
   "execution_count": 4,
   "id": "f59385ea",
   "metadata": {},
   "outputs": [
    {
     "data": {
      "text/plain": [
       "CallToolResult(meta=None, content=[TextContent(type='text', text='<!doctype html>\\n<html>\\n<head>\\n    <title>Example Domain</title>\\n\\n    <meta charset=\"utf-8\" />\\n    <meta http-equiv=\"Content-type\" content=\"text/html; charset=utf-8\" />\\n    <meta name=\"viewport\" content=\"width=device-width, initial-scale=1\" />\\n    <style type=\"text/css\">\\n    body {\\n        background-color: #f0f0f2;\\n        margin: 0;\\n        padding: 0;\\n        font-family: -apple-system, system-ui, BlinkMacSystemFont, \"Segoe UI\", \"Open Sans\", \"Helvetica Neue\", Helvetica, Arial, sans-serif;\\n        \\n    }\\n    div {\\n        width: 600px;\\n        margin: 5em auto;\\n        padding: 2em;\\n        background-color: #fdfdff;\\n        border-radius: 0.5em;\\n        box-shadow: 2px 3px 7px 2px rgba(0,0,0,0.02);\\n    }\\n    a:link, a:visited {\\n        color: #38488f;\\n        text-decoration: none;\\n    }\\n    @media (max-width: 700px) {\\n        div {\\n            margin: 0 auto;\\n            width: auto;\\n        }\\n    }\\n    </style>    \\n</head>\\n\\n<body>\\n<div>\\n    <h1>Example Domain</h1>\\n    <p>This domain is for use in illustrative examples in documents. You may use this\\n    domain in literature without prior coordination or asking for permission.</p>\\n    <p><a href=\"https://www.iana.org/domains/example\">More information...</a></p>\\n</div>\\n</body>\\n</html>\\n', annotations=None)], isError=False)"
      ]
     },
     "execution_count": 4,
     "metadata": {},
     "output_type": "execute_result"
    }
   ],
   "source": [
    "tool_result"
   ]
  },
  {
   "cell_type": "code",
   "execution_count": 5,
   "id": "baff4f1e",
   "metadata": {},
   "outputs": [
    {
     "name": "stdout",
     "output_type": "stream",
     "text": [
      "<!doctype html>\n",
      "<html>\n",
      "<head>\n",
      "    <title>Example Domain</title>\n",
      "\n",
      "    <meta charset=\"utf-8\" />\n",
      "    <meta http-equiv=\"Content-type\" content=\"text/html; charset=utf-8\" />\n",
      "    <meta name=\"viewport\" content=\"width=device-width, initial-scale=1\" />\n",
      "    <style type=\"text/css\">\n",
      "    body {\n",
      "        background-color: #f0f0f2;\n",
      "        margin: 0;\n",
      "        padding: 0;\n",
      "        font-family: -apple-system, system-ui, BlinkMacSystemFont, \"Segoe UI\", \"Open Sans\", \"Helvetica Neue\", Helvetica, Arial, sans-serif;\n",
      "        \n",
      "    }\n",
      "    div {\n",
      "        width: 600px;\n",
      "        margin: 5em auto;\n",
      "        padding: 2em;\n",
      "        background-color: #fdfdff;\n",
      "        border-radius: 0.5em;\n",
      "        box-shadow: 2px 3px 7px 2px rgba(0,0,0,0.02);\n",
      "    }\n",
      "    a:link, a:visited {\n",
      "        color: #38488f;\n",
      "        text-decoration: none;\n",
      "    }\n",
      "    @media (max-width: 700px) {\n",
      "        div {\n",
      "            margin: 0 auto;\n",
      "            width: auto;\n",
      "        }\n",
      "    }\n",
      "    </style>    \n",
      "</head>\n",
      "\n",
      "<body>\n",
      "<div>\n",
      "    <h1>Example Domain</h1>\n",
      "    <p>This domain is for use in illustrative examples in documents. You may use this\n",
      "    domain in literature without prior coordination or asking for permission.</p>\n",
      "    <p><a href=\"https://www.iana.org/domains/example\">More information...</a></p>\n",
      "</div>\n",
      "</body>\n",
      "</html>\n",
      "\n"
     ]
    }
   ],
   "source": [
    "print(tool_result.content[0].text)"
   ]
  },
  {
   "cell_type": "code",
   "execution_count": null,
   "id": "7e45e3e1",
   "metadata": {},
   "outputs": [],
   "source": []
  }
 ],
 "metadata": {
  "kernelspec": {
   "display_name": ".venv",
   "language": "python",
   "name": "python3"
  },
  "language_info": {
   "codemirror_mode": {
    "name": "ipython",
    "version": 3
   },
   "file_extension": ".py",
   "mimetype": "text/x-python",
   "name": "python",
   "nbconvert_exporter": "python",
   "pygments_lexer": "ipython3",
   "version": "3.13.1"
  }
 },
 "nbformat": 4,
 "nbformat_minor": 5
}